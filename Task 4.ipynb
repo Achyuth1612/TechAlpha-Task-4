{
 "cells": [
  {
   "cell_type": "code",
   "execution_count": 33,
   "id": "a0dc102e",
   "metadata": {},
   "outputs": [],
   "source": [
    "import pygame\n",
    "import tkinter as tk\n",
    "from tkinter import filedialog, messagebox"
   ]
  },
  {
   "cell_type": "code",
   "execution_count": 34,
   "id": "dc423173",
   "metadata": {},
   "outputs": [],
   "source": [
    "pygame.mixer.init()"
   ]
  },
  {
   "cell_type": "code",
   "execution_count": 35,
   "id": "d2db6646",
   "metadata": {},
   "outputs": [
    {
     "data": {
      "text/plain": [
       "''"
      ]
     },
     "execution_count": 35,
     "metadata": {},
     "output_type": "execute_result"
    }
   ],
   "source": [
    "root = tk.Tk()\n",
    "root.title(\"MP3 Player\")"
   ]
  },
  {
   "cell_type": "code",
   "execution_count": 36,
   "id": "3da03067",
   "metadata": {},
   "outputs": [],
   "source": [
    "current_song = None"
   ]
  },
  {
   "cell_type": "code",
   "execution_count": 37,
   "id": "5a71f19c",
   "metadata": {},
   "outputs": [],
   "source": [
    "def open_file():\n",
    "    global current_song\n",
    "    file_path = filedialog.askopenfilename(filetypes=[(\"MP3 files\", \"*.mp3\")])\n",
    "    if file_path:\n",
    "        try:\n",
    "            current_song = pygame.mixer.music.load(file_path)\n",
    "            pygame.mixer.music.play()\n",
    "            status_label.config(text=f\"Now Playing: {file_path.split('/')[-1]}\")\n",
    "        except pygame.error:\n",
    "            messagebox.showerror(\"Error\", \"Error loading MP3 file.\")"
   ]
  },
  {
   "cell_type": "code",
   "execution_count": 38,
   "id": "f55acd5b",
   "metadata": {},
   "outputs": [],
   "source": [
    "def play_pause():\n",
    "    if pygame.mixer.music.get_busy():\n",
    "        pygame.mixer.music.pause()\n",
    "        status_label.config(text=\"Paused\")\n",
    "    else:\n",
    "        pygame.mixer.music.unpause()\n",
    "        status_label.config(text=f\"Now Playing: {current_song.split('/')[-1]}\")"
   ]
  },
  {
   "cell_type": "code",
   "execution_count": 39,
   "id": "26d45b15",
   "metadata": {},
   "outputs": [],
   "source": [
    "def stop():\n",
    "    pygame.mixer.music.stop()\n",
    "    current_song = None\n",
    "    status_label.config(text=\"Stopped\")"
   ]
  },
  {
   "cell_type": "code",
   "execution_count": 40,
   "id": "3fc2f1f9",
   "metadata": {},
   "outputs": [],
   "source": [
    "open_button = tk.Button(root, text=\"Open\", command=open_file)\n",
    "play_pause_button = tk.Button(root, text=\"Play/Pause\", command=play_pause)\n",
    "stop_button = tk.Button(root, text=\"Stop\", command=stop)"
   ]
  },
  {
   "cell_type": "code",
   "execution_count": 41,
   "id": "96459b60",
   "metadata": {},
   "outputs": [],
   "source": [
    "status_label = tk.Label(root, text=\"\", font=(\"Arial\", 12))"
   ]
  },
  {
   "cell_type": "code",
   "execution_count": 42,
   "id": "c0b6edd3",
   "metadata": {},
   "outputs": [],
   "source": [
    "open_button.pack(pady=5)\n",
    "play_pause_button.pack(pady=5)\n",
    "stop_button.pack(pady=5)\n",
    "status_label.pack(pady=5)"
   ]
  },
  {
   "cell_type": "code",
   "execution_count": 43,
   "id": "782286d7",
   "metadata": {},
   "outputs": [],
   "source": [
    "root.mainloop()"
   ]
  },
  {
   "cell_type": "code",
   "execution_count": 32,
   "id": "8520e416",
   "metadata": {},
   "outputs": [],
   "source": [
    "pygame.mixer.quit()"
   ]
  },
  {
   "cell_type": "code",
   "execution_count": null,
   "id": "da95ee87",
   "metadata": {},
   "outputs": [],
   "source": []
  }
 ],
 "metadata": {
  "kernelspec": {
   "display_name": "Python 3 (ipykernel)",
   "language": "python",
   "name": "python3"
  },
  "language_info": {
   "codemirror_mode": {
    "name": "ipython",
    "version": 3
   },
   "file_extension": ".py",
   "mimetype": "text/x-python",
   "name": "python",
   "nbconvert_exporter": "python",
   "pygments_lexer": "ipython3",
   "version": "3.11.5"
  }
 },
 "nbformat": 4,
 "nbformat_minor": 5
}
